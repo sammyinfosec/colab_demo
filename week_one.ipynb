{
  "nbformat": 4,
  "nbformat_minor": 0,
  "metadata": {
    "colab": {
      "provenance": [],
      "authorship_tag": "ABX9TyPWstGWqUWkR68f754yXAmH",
      "include_colab_link": true
    },
    "kernelspec": {
      "name": "python3",
      "display_name": "Python 3"
    },
    "language_info": {
      "name": "python"
    }
  },
  "cells": [
    {
      "cell_type": "markdown",
      "metadata": {
        "id": "view-in-github",
        "colab_type": "text"
      },
      "source": [
        "<a href=\"https://colab.research.google.com/github/sammyinfosec/colab_demo/blob/main/week_one.ipynb\" target=\"_parent\"><img src=\"https://colab.research.google.com/assets/colab-badge.svg\" alt=\"Open In Colab\"/></a>"
      ]
    },
    {
      "cell_type": "code",
      "source": [
        "import requests\n",
        "\n",
        "response = requests.get('https://uselessfacts.jsph.pl/random.json?language=en')\n",
        "\n",
        "print(response.text)"
      ],
      "metadata": {
        "colab": {
          "base_uri": "https://localhost:8080/"
        },
        "id": "4gyf7CPW5wnR",
        "outputId": "4efa9320-ef2f-446d-d0b5-e3694993a4ca"
      },
      "execution_count": null,
      "outputs": [
        {
          "output_type": "stream",
          "name": "stdout",
          "text": [
            "{\"id\":\"11b0eadade087981a08e804994b1a503\",\"text\":\"Bees have 5 eyes. There are 3 small eyes on the top of a bee`s head and 2 larger ones in front.\",\"source\":\"djtech.net\",\"source_url\":\"http://www.djtech.net/humor/useless_facts.htm\",\"language\":\"en\",\"permalink\":\"https://uselessfacts.jsph.pl/api/v2/facts/11b0eadade087981a08e804994b1a503\"}\n",
            "\n"
          ]
        }
      ]
    },
    {
      "cell_type": "code",
      "source": [
        "query_params = {\n",
        "    'language': 'en'\n",
        "}\n",
        "\n",
        "response = requests.get('https://uselessfacts.jsph.pl/random.json', params=query_params)\n",
        "\n",
        "print(response.json().get('text'))\n"
      ],
      "metadata": {
        "colab": {
          "base_uri": "https://localhost:8080/"
        },
        "id": "lkp-U9yK64dQ",
        "outputId": "4f37e2d6-6e4c-4a2c-c6f8-d446c33fc6a7"
      },
      "execution_count": null,
      "outputs": [
        {
          "output_type": "stream",
          "name": "stdout",
          "text": [
            "There are 336 dimples on a regulation golf ball.\n"
          ]
        }
      ]
    },
    {
      "cell_type": "markdown",
      "source": [
        "# Data Structures\n",
        "The important ones are lists, dictionaries, and sets"
      ],
      "metadata": {
        "id": "YKZ06JD68-1D"
      }
    },
    {
      "cell_type": "code",
      "source": [
        "data = ['caleb','sam']\n",
        "\n",
        "print(data[1])\n"
      ],
      "metadata": {
        "colab": {
          "base_uri": "https://localhost:8080/"
        },
        "id": "icO9kvM-8V8t",
        "outputId": "85b47670-f291-4850-8c3e-8d3fb6b1a110"
      },
      "execution_count": null,
      "outputs": [
        {
          "output_type": "stream",
          "name": "stdout",
          "text": [
            "sam\n"
          ]
        }
      ]
    },
    {
      "cell_type": "markdown",
      "source": [
        "#Control Flow - Loops and Conditionals\n",
        "\n",
        "Itenration - one time through the loop"
      ],
      "metadata": {
        "id": "ppjGRtp3-FEt"
      }
    },
    {
      "cell_type": "code",
      "source": [
        "data = ['a','b','c','d','e']\n",
        "\n",
        "for i in range(10):\n",
        "  print(i, end= \" \")\n",
        "print(\" \")\n",
        "for letter in data:\n",
        "  print(letter, end= \" \")\n",
        "print(\" \")\n",
        "for i, letter in enumerate(data):\n",
        "  print(i,letter, end= \" \")"
      ],
      "metadata": {
        "colab": {
          "base_uri": "https://localhost:8080/"
        },
        "id": "HHuzLl9u9iua",
        "outputId": "ea44b2c0-33f3-4f8d-fcf7-7867dc4acdc2"
      },
      "execution_count": null,
      "outputs": [
        {
          "output_type": "stream",
          "name": "stdout",
          "text": [
            "0 1 2 3 4 5 6 7 8 9  \n",
            "a b c d e  \n",
            "0 a 1 b 2 c 3 d 4 e "
          ]
        }
      ]
    },
    {
      "cell_type": "code",
      "source": [
        "data = ['a','b','c','d','e']\n",
        "\n",
        "i = 0\n",
        "\n",
        "while i < len(data):\n",
        "  print(data[i], end = \" \")\n",
        "  i += 1\n",
        "\n",
        "while True:\n",
        "  x = input()\n",
        "  if x == \"stop\":\n",
        "    break\n",
        "  elif x == \"speacial\":\n",
        "    continue\n",
        "  print(\"it wasn't stop or special\")\n",
        "  print(\"printing data\")"
      ],
      "metadata": {
        "id": "wSQCSNz7BRIz"
      },
      "execution_count": null,
      "outputs": []
    },
    {
      "cell_type": "code",
      "source": [
        "data_dictionary = {\n",
        "    'Caleb': 5,\n",
        "    'jimmy': 10,\n",
        "    'samantha': 12,\n",
        "    'monica': 20,\n",
        "    'caleb': 4,\n",
        "\n",
        "}\n",
        "\n",
        "for key, value in data_dictionary.items():\n",
        "  if value == 12:\n",
        "    print('we found 12')\n",
        "    break\n",
        "  print(key, value)"
      ],
      "metadata": {
        "colab": {
          "base_uri": "https://localhost:8080/"
        },
        "id": "6_BQN4_-CKr1",
        "outputId": "3afe42b6-5603-498a-ab37-0e789a90ae2f"
      },
      "execution_count": null,
      "outputs": [
        {
          "output_type": "stream",
          "name": "stdout",
          "text": [
            "Caleb 5\n",
            "jimmy 10\n",
            "we found 12\n"
          ]
        }
      ]
    },
    {
      "cell_type": "markdown",
      "source": [
        "# Guessing game\n",
        "\n",
        "- Generate a random number -- random module\n",
        "- do while - Python doesn't have this built in.\n",
        "- do something once - possible repeat it.\n",
        "- Ask us for a number. If we get it wrong, ask again.\n",
        "Logic for right/wrong: guessed == correct value"
      ],
      "metadata": {
        "id": "ANvYfl0zC14C"
      }
    },
    {
      "cell_type": "code",
      "source": [
        "from random import randint\n",
        "\n",
        "low = 0\n",
        "high = 100\n",
        "correct = randint(0,100)\n",
        "print(f'Guess a number between {low} and {high}.')\n",
        "#print(correct)\n",
        "\n",
        "while True:\n",
        "  guess = int(input())\n",
        "  if guess < correct:\n",
        "    print(\"Guess higher\")\n",
        "  elif guess > correct:\n",
        "    print(\"Guess lower\")\n",
        "  else:\n",
        "    print(\"You win!\")\n",
        "    break"
      ],
      "metadata": {
        "colab": {
          "base_uri": "https://localhost:8080/"
        },
        "id": "xJuA7JWqC0Qj",
        "outputId": "e2f76620-8a05-4e7e-cdf2-d863debbb4c7"
      },
      "execution_count": null,
      "outputs": [
        {
          "output_type": "stream",
          "name": "stdout",
          "text": [
            "Guess a number between 0 and 100.\n",
            "50\n",
            "Guess higher\n",
            "75\n",
            "Guess higher\n",
            "80\n",
            "Guess higher\n",
            "95\n",
            "Guess lower\n",
            "90\n",
            "Guess lower\n",
            "85\n",
            "Guess higher\n",
            "86\n",
            "You win!\n"
          ]
        }
      ]
    }
  ]
}